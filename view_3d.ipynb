{
 "cells": [
  {
   "cell_type": "code",
   "execution_count": null,
   "metadata": {},
   "outputs": [],
   "source": [
    "from evals.models.dino import DINO\n",
    "from evals.models.stablediffusion import DIFT\n",
    "from evals.models.clip import CLIP\n",
    "from evals.models.sam import SAM\n",
    "from evals.models.radio import RADIO\n",
    "\n",
    "from PIL import Image\n",
    "import numpy as np\n",
    "import torch\n",
    "from torchvision import transforms as transforms\n",
    "from sklearn.decomposition import PCA\n",
    "import torch\n",
    "import matplotlib.pyplot as plt\n",
    "\n",
    "import torch.nn.functional as F\n",
    "import pickle\n",
    "from PIL import Image\n",
    "import matplotlib.pyplot as plt\n",
    "import numpy as np\n",
    "import open3d as o3d\n",
    "import torch\n",
    "from sklearn.decomposition import PCA\n",
    "import pdb\n",
    "import random"
   ]
  },
  {
   "cell_type": "code",
   "execution_count": null,
   "metadata": {},
   "outputs": [],
   "source": [
    "def PCA_visualize(feature, H, W, return_res=False, pcaed=False):\n",
    "\n",
    "    feature_img_resized = F.interpolate(feature, \n",
    "                            size=(H, W), \n",
    "                            mode='bilinear', \n",
    "                            align_corners=True)\n",
    "    feature_img_resized = feature_img_resized[0].permute(1, 2, 0)\n",
    "    feature = feature_img_resized\n",
    "    if feature.device != torch.device('cpu'):\n",
    "        feature = feature.cpu()\n",
    "    if not pcaed:\n",
    "        pca = PCA(n_components=3)\n",
    "        tmp_feature = feature.reshape(-1, feature.shape[-1]).detach().numpy()\n",
    "        pca.fit(tmp_feature)\n",
    "        pca_feature = pca.transform(tmp_feature)\n",
    "        for i in range(3): # min_max scaling\n",
    "            pca_feature[:, i] = (pca_feature[:, i] - pca_feature[:, i].min()) / (pca_feature[:, i].max() - pca_feature[:, i].min())\n",
    "        pca_feature = pca_feature.reshape(feature.shape[0], feature.shape[1], 3)\n",
    "    else:\n",
    "        pca_feature = feature\n",
    "    print(pca_feature.shape)\n",
    "    if return_res:\n",
    "        return pca_feature\n",
    "    plt.imshow(pca_feature)  # cmap='gray'表示使用灰度颜色映射\n",
    "    plt.axis('off')\n",
    "    plt.show()\n",
    "    \n",
    "def load_image(url, transform_size):\n",
    "    img = Image.open(url)\n",
    "    img = np.array(img)[:, :, :3]\n",
    "    H, W = img.shape[0], img.shape[1]\n",
    "    img = Image.fromarray(img)\n",
    "    rgb_transform = transforms.Compose(\n",
    "                [\n",
    "                    transforms.Resize((transform_size, transform_size)),\n",
    "                    transforms.ToTensor(),\n",
    "                    transforms.Normalize(mean=[0.5, 0.5, 0.5], std=[0.5, 0.5, 0.5]),\n",
    "                ]\n",
    "            )\n",
    "    img = rgb_transform(img).to('cuda')\n",
    "    img = img.unsqueeze(0).detach()\n",
    "    return img, H, W\n",
    "\n",
    "def transform_np_image_to_torch(image, transform_size):\n",
    "    img = np.array(image)[:, :, :3]\n",
    "    H, W = img.shape[0], img.shape[1]\n",
    "    img = Image.fromarray(img)\n",
    "    rgb_transform = transforms.Compose(\n",
    "                [\n",
    "                    transforms.Resize((transform_size, transform_size)),\n",
    "                    transforms.ToTensor(),\n",
    "                    transforms.Normalize(mean=[0.5, 0.5, 0.5], std=[0.5, 0.5, 0.5]),\n",
    "                ]\n",
    "            )\n",
    "    img = rgb_transform(img).to('cuda')\n",
    "    img = img.unsqueeze(0).detach()\n",
    "    return img, H, W\n",
    "\n",
    "def get_point_cloud(obs):\n",
    "    camera_params = obs[\"camera_param\"]\n",
    "    images = obs[\"image\"]\n",
    "    camera_dicts = camera_params\n",
    "    for camera_name in camera_dicts:\n",
    "        camera_intrinsic = camera_dicts[camera_name][\"intrinsic_cv\"]\n",
    "        cam2world_matrix = camera_dicts[camera_name][\"cam2world_gl\"]\n",
    "        Rtilt_rot = cam2world_matrix[:3, :3] @ np.array([[1, 0, 0], [0, -1, 0], [0, 0, -1]])\n",
    "        Rtilt_trl = cam2world_matrix[:3, 3]\n",
    "        cam2_wolrd = np.eye(4)\n",
    "        cam2_wolrd[:3, :3] = Rtilt_rot\n",
    "        cam2_wolrd[:3, 3] = Rtilt_trl\n",
    "        camera_dicts[camera_name][\"cam2world\"] = cam2_wolrd\n",
    "        camera_image = images[camera_name]\n",
    "        camera_rgb = camera_image[\"rgb\"]\n",
    "        camera_depth = camera_image[\"depth\"]\n",
    "        point_cloud_world, per_point_rgb, = tanslation_point_cloud(camera_depth, camera_rgb,\n",
    "                                                                                    camera_intrinsic, cam2_wolrd)\n",
    "            \n",
    "        camera_dicts[camera_name][\"point_cloud_world\"] = point_cloud_world\n",
    "        camera_dicts[camera_name][\"per_point_rgb\"] = per_point_rgb\n",
    "        camera_dicts[camera_name][\"rgb\"] = camera_rgb\n",
    "        camera_dicts[camera_name][\"depth\"] = camera_depth\n",
    "        camera_dicts[camera_name][\"camera_intrinsic\"] = camera_intrinsic\n",
    "        # view_point_cloud_parts(point_cloud=point_cloud_world, mask=seg_mask)\n",
    "        # view_point_cloud_parts(point_cloud=point_cloud_world, rgb=per_point_rgb)\n",
    "    return camera_dicts\n",
    "\n",
    "def tanslation_point_cloud(depth_map, rgb_image, camera_intrinsic, cam2world_matrix):\n",
    "    depth_map = depth_map.reshape(depth_map.shape[0], depth_map.shape[1])\n",
    "    rows, cols = depth_map.shape[0], depth_map.shape[1]\n",
    "    \n",
    "    u, v = np.meshgrid(np.arange(cols), np.arange(rows))\n",
    "    z = depth_map\n",
    "    x = (u - camera_intrinsic[0][2]) * z / camera_intrinsic[0][0]\n",
    "    y = (v - camera_intrinsic[1][2]) * z / camera_intrinsic[1][1]\n",
    "    points = np.dstack((x, y, z))\n",
    "    per_point_xyz = points.reshape(-1, 3)\n",
    "    per_point_rgb = rgb_image.reshape(-1, 3)\n",
    "    # view_point_cloud_parts(per_point_xyz, actor_seg)\n",
    "    point_xyz = [per_point_xyz]\n",
    "    point_rgb = [per_point_rgb]\n",
    "    # print('!', point_xyz[0].shape, point_rgb[0].shape)\n",
    "\n",
    "    if len(point_xyz) > 0:\n",
    "        pcd_camera = np.concatenate(point_xyz)\n",
    "        point_rgb = np.concatenate(point_rgb)\n",
    "        pcd_world = pc_camera_to_world(pcd_camera, cam2world_matrix)\n",
    "        return pcd_world, point_rgb\n",
    "    else:\n",
    "        return None, None\n",
    "\n",
    "def pc_camera_to_world(pc, extrinsic):\n",
    "    R = extrinsic[:3, :3]\n",
    "    T = extrinsic[:3, 3]\n",
    "    pc = (R @ pc.T).T + T\n",
    "    return pc"
   ]
  },
  {
   "cell_type": "markdown",
   "metadata": {},
   "source": [
    "# Open3D"
   ]
  },
  {
   "cell_type": "code",
   "execution_count": null,
   "metadata": {},
   "outputs": [],
   "source": [
    "with open('./1.pickle', 'rb') as file:\n",
    "    data = pickle.load(file)\n",
    "camera_list = list(data['image'].keys())"
   ]
  },
  {
   "cell_type": "markdown",
   "metadata": {},
   "source": [
    "### CLIP"
   ]
  },
  {
   "cell_type": "code",
   "execution_count": null,
   "metadata": {},
   "outputs": [],
   "source": [
    "model = CLIP(layer=11).to('cuda')\n",
    "len(model.visual.transformer.resblocks)"
   ]
  },
  {
   "cell_type": "markdown",
   "metadata": {},
   "source": [
    "### SAM"
   ]
  },
  {
   "cell_type": "code",
   "execution_count": null,
   "metadata": {},
   "outputs": [],
   "source": [
    "model = SAM(arch=\"vit_h\", device='cuda')\n",
    "len(model.vit.blocks)"
   ]
  },
  {
   "cell_type": "code",
   "execution_count": null,
   "metadata": {},
   "outputs": [],
   "source": [
    "rgb_list = []\n",
    "feature = []\n",
    "with torch.no_grad():\n",
    "    for camera in camera_list:\n",
    "        image = data['image'][camera]['rgb']\n",
    "        rgb_list.append(image)\n",
    "        img, H, W = transform_np_image_to_torch(image, transform_size=1600)\n",
    "        res = model(img)\n",
    "        feature.append(res.cpu())\n",
    "\n",
    "    feature = np.array(feature)\n",
    "    "
   ]
  },
  {
   "cell_type": "code",
   "execution_count": null,
   "metadata": {},
   "outputs": [],
   "source": [
    "new_order = (0, 1, 3, 4, 2)\n",
    "new_feature = np.transpose(feature, new_order)\n",
    "orig_shape = new_feature.shape\n",
    "new_feature = new_feature.reshape(-1, new_feature.shape[-1])\n",
    "print(f'orig: {feature.shape}, new: {new_feature.shape}')\n",
    "\n",
    "pca = PCA(n_components=3)\n",
    "pca.fit(new_feature)\n",
    "pca_features = pca.transform(new_feature)\n",
    "\n",
    "for i in range(3):\n",
    "    # min_max scaling\n",
    "    pca_features[:, i] = (pca_features[:, i] - pca_features[:, i].min()) / (pca_features[:, i].max() - pca_features[:, i].min())\n",
    "\n",
    "tmp = orig_shape[:-1] + (3,)\n",
    "feature_rgb = pca_features.reshape(tmp)\n",
    "feature_rgb = np.transpose(feature_rgb, (0, 1, 4, 2, 3))\n",
    "print(feature_rgb.shape)"
   ]
  },
  {
   "cell_type": "code",
   "execution_count": null,
   "metadata": {},
   "outputs": [],
   "source": [
    "for i in range(len(camera_list)):\n",
    "    camera = camera_list[i]\n",
    "    image = data['image'][camera]['rgb']\n",
    "    H, W = image.shape[:2]\n",
    "    rgb = torch.Tensor(feature_rgb[i])\n",
    "    res = PCA_visualize(rgb, H, W, return_res=True, pcaed=True)\n",
    "    data['image'][camera]['rgb'] = res\n",
    "    plt.subplot(3, 2, i+1)\n",
    "    plt.title(camera)\n",
    "    plt.imshow(res)\n",
    "    plt.axis('off')"
   ]
  },
  {
   "cell_type": "code",
   "execution_count": null,
   "metadata": {},
   "outputs": [],
   "source": [
    "pcd_dict = get_point_cloud(data)"
   ]
  },
  {
   "cell_type": "code",
   "execution_count": null,
   "metadata": {},
   "outputs": [],
   "source": [
    "pcd = np.empty((0, 3), dtype=np.float16)\n",
    "pcd_rgb = np.empty((0, 3), dtype=np.float16)\n",
    "for camera in camera_list:\n",
    "    tmp_xyz = pcd_dict[camera]['point_cloud_world']\n",
    "    tmp_rgb = pcd_dict[camera]['per_point_rgb']\n",
    "                               \n",
    "    t = 0.1 # crop ground\n",
    "    # crop ground\n",
    "    bool_mask = tmp_xyz[:, 2] > t\n",
    "    masked_idx = np.where(bool_mask)[0]\n",
    "    masked_xyz = tmp_xyz[masked_idx]\n",
    "    masked_rgb = tmp_rgb[masked_idx]\n",
    "\n",
    "    pcd = np.concatenate((pcd, masked_xyz), axis=0)   \n",
    "    pcd_rgb = np.concatenate((pcd_rgb, masked_rgb), axis=0) \n",
    "print(pcd.shape)"
   ]
  },
  {
   "cell_type": "code",
   "execution_count": null,
   "metadata": {},
   "outputs": [],
   "source": [
    "pcd = pcd\n",
    "idx = random.sample(range(0, pcd.shape[0]), 100000)\n",
    "\n",
    "fig = plt.figure()\n",
    "ax = fig.add_subplot(111, projection='3d')\n",
    "ax.scatter(pcd[idx, 0], pcd[idx, 1], pcd[idx, 2], c=pcd_rgb[idx], s=1, marker='o')\n",
    "# 设置图表标题\n",
    "ax.set_title('3D Point Cloud Rendering')\n",
    "# 显示图表\n",
    "plt.show()"
   ]
  },
  {
   "cell_type": "code",
   "execution_count": null,
   "metadata": {},
   "outputs": [],
   "source": []
  }
 ],
 "metadata": {
  "kernelspec": {
   "display_name": "probe3d",
   "language": "python",
   "name": "python3"
  },
  "language_info": {
   "codemirror_mode": {
    "name": "ipython",
    "version": 3
   },
   "file_extension": ".py",
   "mimetype": "text/x-python",
   "name": "python",
   "nbconvert_exporter": "python",
   "pygments_lexer": "ipython3",
   "version": "3.9.undefined"
  }
 },
 "nbformat": 4,
 "nbformat_minor": 2
}
